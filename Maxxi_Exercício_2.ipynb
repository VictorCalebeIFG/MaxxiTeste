{
  "nbformat": 4,
  "nbformat_minor": 0,
  "metadata": {
    "colab": {
      "provenance": [],
      "authorship_tag": "ABX9TyPxeL4f6Xo74RZ/3dHWtR1l",
      "include_colab_link": true
    },
    "kernelspec": {
      "name": "python3",
      "display_name": "Python 3"
    },
    "language_info": {
      "name": "python"
    }
  },
  "cells": [
    {
      "cell_type": "markdown",
      "metadata": {
        "id": "view-in-github",
        "colab_type": "text"
      },
      "source": [
        "<a href=\"https://colab.research.google.com/github/VictorCalebeIFG/MaxxiTeste/blob/main/Maxxi_Exerc%C3%ADcio_2.ipynb\" target=\"_parent\"><img src=\"https://colab.research.google.com/assets/colab-badge.svg\" alt=\"Open In Colab\"/></a>"
      ]
    },
    {
      "cell_type": "markdown",
      "source": [
        "# **Exercício 2:** Desenvolva uma função que receba o número de elementos na lista encadeada e a lista encadeada, e retorne a lista encadeada reversa.\n"
      ],
      "metadata": {
        "id": "ihihbrr47e3_"
      }
    },
    {
      "cell_type": "markdown",
      "source": [
        "\n",
        "\n",
        "---\n",
        "\n",
        "### **Resolução**: Bem, primeiramente deve-se dividir o exercício em algumas etapas:\n",
        "\n",
        "\n",
        "*   Implementar uma Linked List.\n",
        "*   Criar a função para inverter a linked list.\n",
        "*   Validar o código.\n",
        "\n",
        "\n",
        "\n"
      ],
      "metadata": {
        "id": "ArNc0fnn8BUg"
      }
    },
    {
      "cell_type": "markdown",
      "source": [
        "\n",
        "\n",
        "---\n",
        "\n",
        "### **Primeira Etapa**: Linked List.\n",
        "Esta etapa não é necessária para a resolução do exercício, tive que implementar uma Linked Lista para poder fazer os testes 😳"
      ],
      "metadata": {
        "id": "e9yW3v4Q8lzO"
      }
    },
    {
      "cell_type": "code",
      "execution_count": null,
      "metadata": {
        "id": "vuC2e1LzTFnL"
      },
      "outputs": [],
      "source": [
        "'''\n",
        "Classe Celula (ou Nó): É nela que ficará guardado o dado e a referência para o próximo nó.\n",
        "Recebe um valor \"data\" e outro objeto do mesmo tipo (Celula) para a referência da próxima célula.\n",
        "'''\n",
        "class Celula():\n",
        "    # Contrutor da classe (Método que é chamado ao instanciar um objeto do tipo Celula)\n",
        "    def __init__(self, data , prox = None):\n",
        "        self.data = data\n",
        "        self.proximo = prox\n",
        "'''\n",
        "Classe ListaL (Lista \"Linkada\") : É nessa classe que ficará estruturada as celulas.\n",
        "Recebe um valor \"data\" que inicia a Lista. O valor passado no \"construct\" será colocado na célula \"head\".\n",
        "'''\n",
        "class ListaL():\n",
        "    # Construtor da classe.\n",
        "    # Responsável por inciar a célula \"head\".\n",
        "    def __init__(self,data = None):\n",
        "        self.head = Celula(data)        # Cria um objeto do tipo Célula, tornando-a a célula \"head\".\n",
        "        self.last = self.head           # Torna a célula \"head\" a célula \"last\" (ultima célula da lista).\n",
        "\n",
        "    # Adiciona uma célula ao final da lista.\n",
        "    def append(self, data = None):\n",
        "        my_cell = Celula(data)          # Cria um objeto tipo Célua e guarda na variável \"my_cell\" (minha célula).\n",
        "        self.last.proximo = my_cell     # A célula agora pouco criada será a próxima celula \"last.proxima\".\n",
        "        self.last = my_cell             # Como foi adicionado uma nova célula, é necessário atualizar a nova célula \"last\".\n",
        "\n",
        "    # Retorna em uma string todos os valores dentro da lista.\n",
        "    def get_data(self):\n",
        "        my_cell = self.head             # Percorreremos a lista iniciando pela célula \"head\".\n",
        "        data = \"\"                       # Variável onde será guardado a string com os dados.\n",
        "\n",
        "        data += str(self.head.data)+ \"|->\"                  # Concatena na string \"data\" começando pela célula \"head\".\n",
        "\n",
        "        while my_cell.proximo:                              # Enquanto ainda houver uma célula com o próximo que não seja nulo.\n",
        "            data += \"|\"+ str(my_cell.proximo.data) + \"|->\"  # Concatena a célula \"proximo\" da célula atual na string \"dados\".\n",
        "            my_cell = my_cell.proximo                       # Atualiza a célula atual \"my_cell\".\n",
        "\n",
        "        data += \"None\"                                      # A ultima célula sempre é a célula nula.\n",
        "\n",
        "        return data\n",
        "\n",
        "'''\n",
        "Esta função é responsável por criar uma lista linkada (não invertida) atráves de um array.\n",
        "Recebe um array [x,y,z...] e retorna um objeto do tipo ListaL (\"lista linkada\").\n",
        "'''\n",
        "def criar_lista(values):\n",
        "    lista = None                                # Inicia a variável lista\n",
        "    for i in range(len(values)):                # Percorre o array fornecido como parametro na função.\n",
        "        if i == 0 : lista = ListaL(values[i])   # Caso seja o primeiro elemento do array chame o costruct e o coloque na célula \"head\".\n",
        "        else: lista.append(values[i])           # Adiciona o valor percorrido no final da lista.\n",
        "\n",
        "    return lista\n"
      ]
    },
    {
      "cell_type": "markdown",
      "source": [
        "### **Segunda Etapa**: Criar uma função para inverter a Linked List.\n",
        "🎯 ***⦁\tEscreva um texto explicando o funcionamento do algoritmo:***\n",
        "\n",
        "A ideia aqui é basicamente inverter os ponteiros das células, porém sempre tentando não perder suas referências. Toda vez que invertemos o ponteiro estamos perdendo a referência para o \"antigo_proximo\", por isso devemos, antes de fazer a inversão, guardar esse valor em uma variável. A célula \"novo_próximo\" será sempre a célula anterior, com a exceção da célula \"head\", sua célula próximo deve iniciar sendo nula, pois ela será a última célula da lista invertida.\n",
        "\n",
        "🎯 ***⦁\tDescreva um problema do dia a dia que este algoritmo pudesse ser utilizado.***\n",
        "\n",
        "Digamos que você tenha uma lista enorme com as idades de determinado grupo de pessoas, porém a lista está ordenada do maior para o menor. Então, por algum motivo você deseja, de forma rápida, visualizar as menores idades dentro dessa lista. Como a lista é muito grande pode demorar bastante para encontrar o menor valor no final da lista. O que você pode fazer é inverter essa lista e ter os menores valores logo no início dela, facilitando essa visualização."
      ],
      "metadata": {
        "id": "-O0zj6IHCG_g"
      }
    },
    {
      "cell_type": "code",
      "source": [
        "'''\n",
        "Esta é a função responsável por inverter a Lista linkada.\n",
        "Recebe uma lista não invertida.\n",
        "'''\n",
        "\n",
        "def inverter_lista(tam,lista):\n",
        "\n",
        "    novo_proximo = None                         # Inicia a Varíavel novo_próximo\n",
        "    celula = lista.head                         # Inicia a reordenagem da lista pela célula \"head\".\n",
        "    antigo_próximo = celula.proximo             # Guarda a célula posterior à célula \"head\" para que não se perca a referência.\n",
        "\n",
        "    celula.proximo = novo_proximo               # Agora o \"próximo\" da primeira célula é \"None\". É aqui que acontece a inversão de ponteiros.\n",
        "    anterior = celula                           # Guardamos a célula \"head\" na variável anterior, para que não se perca a referência.\n",
        "    celula = antigo_próximo                     # Passamos agora para a próxima célula (a segunda célula, ou seja a antiga próximo da célula \"head\").\n",
        "\n",
        "    while celula:                               # Agora vamos percorrer a lista até chegar na ultima célula.\n",
        "        antigo_proximo = celula.proximo         # Guardamos a próxima celula para não perder a referência.\n",
        "        novo_proximo = anterior                 # Guardamos a célula anterior, pois ela será a nova próxima celula da atual.\n",
        "\n",
        "        celula.proximo = novo_proximo           # O próximo da celula atual se torna a célula anterior.\n",
        "        anterior = celula                       # Agora a celula anterior será a atual, pois iremos para a próxima celula.\n",
        "        celula = antigo_proximo                 # Atualiza a celula atual para o antigo próximo. É essa parte do código que permite que a lista seja percorrida.\n",
        "                                                # Repete o loop até chegar no final da lista.\n",
        "\n",
        "    lista.head = anterior                       # Atualiza a nova célula \"head\" após a inversão.\n",
        "    return lista\n"
      ],
      "metadata": {
        "id": "n6lY2_XXB6sN"
      },
      "execution_count": null,
      "outputs": []
    },
    {
      "cell_type": "markdown",
      "source": [
        "### **Terceira e Ultima Etapa**: Validação do algorítimo"
      ],
      "metadata": {
        "id": "YrlQ0_KHEio9"
      }
    },
    {
      "cell_type": "code",
      "source": [
        "'''\n",
        "Criando Primeira Lista\n",
        "'''\n",
        "lista1 = criar_lista([85,15,4,20])          # Cria lista com o array fornecido.\n",
        "lista1.get_data()                           # Mostra os dados dentro da lista."
      ],
      "metadata": {
        "colab": {
          "base_uri": "https://localhost:8080/",
          "height": 35
        },
        "id": "_cAJHo3zyC5R",
        "outputId": "bdfa2957-1276-4abe-87a3-b361ae5fcecf"
      },
      "execution_count": null,
      "outputs": [
        {
          "output_type": "execute_result",
          "data": {
            "text/plain": [
              "'85|->|15|->|4|->|20|->None'"
            ],
            "application/vnd.google.colaboratory.intrinsic+json": {
              "type": "string"
            }
          },
          "metadata": {},
          "execution_count": 32
        }
      ]
    },
    {
      "cell_type": "code",
      "source": [
        "'''Criando Segunda Lista'''\n",
        "lista2 = criar_lista([1,2,3,5,6,7,8])       # Cria lista com o array fornecido.\n",
        "lista2.get_data()                           # Mostra os dados dentro da lista."
      ],
      "metadata": {
        "colab": {
          "base_uri": "https://localhost:8080/",
          "height": 35
        },
        "id": "tVnoOWY16wSf",
        "outputId": "d8b57c4b-7a20-4fea-8c27-612ebd6491c3"
      },
      "execution_count": null,
      "outputs": [
        {
          "output_type": "execute_result",
          "data": {
            "text/plain": [
              "'1|->|2|->|3|->|5|->|6|->|7|->|8|->None'"
            ],
            "application/vnd.google.colaboratory.intrinsic+json": {
              "type": "string"
            }
          },
          "metadata": {},
          "execution_count": 33
        }
      ]
    },
    {
      "cell_type": "code",
      "source": [
        "'''\n",
        "Invertendo a primeira lista\n",
        "'''\n",
        "lista1_invertida = inverter_lista(4,lista1) # Inverte a lista 1.\n",
        "lista1_invertida.get_data()                 # Mostra os dados dentro da lista.\n"
      ],
      "metadata": {
        "colab": {
          "base_uri": "https://localhost:8080/",
          "height": 35
        },
        "id": "WTIAjHNhG_J0",
        "outputId": "f31954f0-d21e-44d1-cc6f-d526adb11eb7"
      },
      "execution_count": null,
      "outputs": [
        {
          "output_type": "execute_result",
          "data": {
            "text/plain": [
              "'20|->|4|->|15|->|85|->None'"
            ],
            "application/vnd.google.colaboratory.intrinsic+json": {
              "type": "string"
            }
          },
          "metadata": {},
          "execution_count": 34
        }
      ]
    },
    {
      "cell_type": "code",
      "source": [
        "'''\n",
        "Invertendo a segunda lista\n",
        "'''\n",
        "lista2_invertida = inverter_lista(7,lista2) # Inverte a lista 2\n",
        "lista2_invertida.get_data()                 # Mostra os dados dentro da lista.\n"
      ],
      "metadata": {
        "colab": {
          "base_uri": "https://localhost:8080/",
          "height": 35
        },
        "id": "kWbYib6zHTPz",
        "outputId": "d6efa618-3c7c-4617-bb03-8d76d1fe9f37"
      },
      "execution_count": null,
      "outputs": [
        {
          "output_type": "execute_result",
          "data": {
            "text/plain": [
              "'8|->|7|->|6|->|5|->|3|->|2|->|1|->None'"
            ],
            "application/vnd.google.colaboratory.intrinsic+json": {
              "type": "string"
            }
          },
          "metadata": {},
          "execution_count": 35
        }
      ]
    }
  ]
}