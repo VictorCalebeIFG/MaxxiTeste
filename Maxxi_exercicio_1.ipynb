{
  "nbformat": 4,
  "nbformat_minor": 0,
  "metadata": {
    "colab": {
      "provenance": [],
      "authorship_tag": "ABX9TyOnXAhUeSmbE8NQ9Aw9pawN",
      "include_colab_link": true
    },
    "kernelspec": {
      "name": "python3",
      "display_name": "Python 3"
    },
    "language_info": {
      "name": "python"
    }
  },
  "cells": [
    {
      "cell_type": "markdown",
      "metadata": {
        "id": "view-in-github",
        "colab_type": "text"
      },
      "source": [
        "<a href=\"https://colab.research.google.com/github/VictorCalebeIFG/MaxxiTeste/blob/main/Maxxi_exercicio_1.ipynb\" target=\"_parent\"><img src=\"https://colab.research.google.com/assets/colab-badge.svg\" alt=\"Open In Colab\"/></a>"
      ]
    },
    {
      "cell_type": "markdown",
      "source": [
        "#**Manipulação e análise de dados**\n",
        "### *A partir das tabelas cadastro.csv  e vendas.csv, resolva as seguintes questões:*\n",
        "\n",
        "**Q1:** Qual a pessoa (cod_cadastro) que gastou mais? e a que gastou menos?\n",
        "\n",
        "**Q2:**Qual a região de procedência que gasta mais?\n",
        "\n",
        "**Q3:**Qual o produto que mais é vendido em quantidade?\n",
        "\n",
        "**Q4:** alguma característica da que identifique o grupo das pessoas (top 5) que compram mais produtos em quantidade? E as que gastam mais dinheiro?\n",
        "\n",
        "**Q5:** consegue ver alguma relação entre o grau de instrução e o número de filhos? Descreva a sua interpretação do caso, utilizando os dados para justificar as suas conclusões.\n",
        "\n",
        "**Q6:**Imagine que a empresa em questão queira desenvolver um programa de cashback de benefícios baseada no perfil dos clientes, sendo assim, o primeiro passo seria desenvolver este perfil. Proponha um critério para classificar os clientes em clientes diamante, ouro e prata . Justifique a sua resposta.\n"
      ],
      "metadata": {
        "id": "EnUTurZNsJUy"
      }
    },
    {
      "cell_type": "markdown",
      "source": [
        "**Carregando Dataframes com os dados necessários:**"
      ],
      "metadata": {
        "id": "1BPZa_Hnshcw"
      }
    },
    {
      "cell_type": "code",
      "execution_count": 1195,
      "metadata": {
        "id": "EG5TUsb6pw05"
      },
      "outputs": [],
      "source": [
        "# Importando a Biblioteca pandas.\n",
        "import pandas as pd\n",
        "import matplotlib.pyplot as plt\n",
        "\n",
        "cadastro_git_hub    = \"https://raw.githubusercontent.com/VictorCalebeIFG/MaxxiTeste/main/avaliacao_dataops/avaliacao_dataops/cadastro.csv\"\n",
        "vendas_git_hub      = \"https://raw.githubusercontent.com/VictorCalebeIFG/MaxxiTeste/main/avaliacao_dataops/avaliacao_dataops/vendas.csv\"\n",
        "\n",
        "cadastro_data       = pd.read_csv(cadastro_git_hub, delimiter=';')\n",
        "venda_data          = pd.read_csv(vendas_git_hub,   delimiter=';')"
      ]
    },
    {
      "cell_type": "markdown",
      "source": [
        "\n",
        "##🎯 **Q1:** **Qual a pessoa (cod_cadastro) que gastou mais? e a que gastou menos?**\n",
        "\n",
        "\n",
        "\n",
        "\n",
        "   \n",
        "\n",
        "   \n",
        "\n",
        "\n",
        "\n",
        "\n",
        "\n",
        "\n"
      ],
      "metadata": {
        "id": "B-picwlUyya5"
      }
    },
    {
      "cell_type": "code",
      "source": [
        "# Somando os valores dentro de cada grupo. (agrupado pelo cod_cadastro).\n",
        "# Ou seja, registros de \"valor\" com mesmo \"cod_cadastro\" serão somados em um único registro.\n",
        "codXvalor = venda_data[[\"cod_cadastro\", \"valor\"]]\n",
        "vendas = codXvalor.groupby(['cod_cadastro']).sum()"
      ],
      "metadata": {
        "id": "-7oG8ZLEzG4M"
      },
      "execution_count": 1196,
      "outputs": []
    },
    {
      "cell_type": "markdown",
      "source": [
        "⭐ **Reposta:**"
      ],
      "metadata": {
        "id": "CNjkwBzMSceM"
      }
    },
    {
      "cell_type": "code",
      "source": [
        "print(\"-\"*10);print(\"RESPOSTA:\");print(\"-\"*10)\n",
        "\n",
        "print(\"Quem Gastou mais:\")\n",
        "print(\"cod_cadastro:\",vendas['valor'].idxmax(),\"; valor total:\",vendas['valor'].max())\n",
        "\n",
        "print(\"\\nQuem Gastou menos:\")\n",
        "print(\"cod_cadastro:\",vendas['valor'].idxmin(),\"; valor total:\",vendas['valor'].min())"
      ],
      "metadata": {
        "colab": {
          "base_uri": "https://localhost:8080/"
        },
        "id": "fMfyT6ezQa21",
        "outputId": "9bb7043b-43e9-42e3-bd4a-c08288d59a54"
      },
      "execution_count": 1197,
      "outputs": [
        {
          "output_type": "stream",
          "name": "stdout",
          "text": [
            "----------\n",
            "RESPOSTA:\n",
            "----------\n",
            "Quem Gastou mais:\n",
            "cod_cadastro: 27 ; valor total: 47.800000000000004\n",
            "\n",
            "Quem Gastou menos:\n",
            "cod_cadastro: 16 ; valor total: 2.8\n"
          ]
        }
      ]
    },
    {
      "cell_type": "markdown",
      "source": [
        "\n",
        "##🎯 **Q2:** **Qual a região de procedência que gasta mais?**\n"
      ],
      "metadata": {
        "id": "_aiUtFbeHtWe"
      }
    },
    {
      "cell_type": "code",
      "source": [
        "codXvalorXreg = codXvalor.merge(\n",
        "                cadastro_data[['cod_cadastro','reg_procedencia']],\n",
        "                how='left',\n",
        "                on = 'cod_cadastro')\n",
        "\n",
        "regprocXvalortotal= codXvalorXreg[['reg_procedencia','valor']].groupby(['reg_procedencia']).sum()\n",
        "\n",
        "regprocXvalortotal"
      ],
      "metadata": {
        "colab": {
          "base_uri": "https://localhost:8080/",
          "height": 174
        },
        "id": "zKoClNNac051",
        "outputId": "f8c026c8-26b5-4582-bdef-b792f6e6d506"
      },
      "execution_count": 1198,
      "outputs": [
        {
          "output_type": "execute_result",
          "data": {
            "text/plain": [
              "                  valor\n",
              "reg_procedencia        \n",
              "capital          165.90\n",
              "interior         189.93\n",
              "outra            166.67"
            ],
            "text/html": [
              "\n",
              "  <div id=\"df-339e94b0-a5d7-4da2-9ea6-ec08366d9539\">\n",
              "    <div class=\"colab-df-container\">\n",
              "      <div>\n",
              "<style scoped>\n",
              "    .dataframe tbody tr th:only-of-type {\n",
              "        vertical-align: middle;\n",
              "    }\n",
              "\n",
              "    .dataframe tbody tr th {\n",
              "        vertical-align: top;\n",
              "    }\n",
              "\n",
              "    .dataframe thead th {\n",
              "        text-align: right;\n",
              "    }\n",
              "</style>\n",
              "<table border=\"1\" class=\"dataframe\">\n",
              "  <thead>\n",
              "    <tr style=\"text-align: right;\">\n",
              "      <th></th>\n",
              "      <th>valor</th>\n",
              "    </tr>\n",
              "    <tr>\n",
              "      <th>reg_procedencia</th>\n",
              "      <th></th>\n",
              "    </tr>\n",
              "  </thead>\n",
              "  <tbody>\n",
              "    <tr>\n",
              "      <th>capital</th>\n",
              "      <td>165.90</td>\n",
              "    </tr>\n",
              "    <tr>\n",
              "      <th>interior</th>\n",
              "      <td>189.93</td>\n",
              "    </tr>\n",
              "    <tr>\n",
              "      <th>outra</th>\n",
              "      <td>166.67</td>\n",
              "    </tr>\n",
              "  </tbody>\n",
              "</table>\n",
              "</div>\n",
              "      <button class=\"colab-df-convert\" onclick=\"convertToInteractive('df-339e94b0-a5d7-4da2-9ea6-ec08366d9539')\"\n",
              "              title=\"Convert this dataframe to an interactive table.\"\n",
              "              style=\"display:none;\">\n",
              "        \n",
              "  <svg xmlns=\"http://www.w3.org/2000/svg\" height=\"24px\"viewBox=\"0 0 24 24\"\n",
              "       width=\"24px\">\n",
              "    <path d=\"M0 0h24v24H0V0z\" fill=\"none\"/>\n",
              "    <path d=\"M18.56 5.44l.94 2.06.94-2.06 2.06-.94-2.06-.94-.94-2.06-.94 2.06-2.06.94zm-11 1L8.5 8.5l.94-2.06 2.06-.94-2.06-.94L8.5 2.5l-.94 2.06-2.06.94zm10 10l.94 2.06.94-2.06 2.06-.94-2.06-.94-.94-2.06-.94 2.06-2.06.94z\"/><path d=\"M17.41 7.96l-1.37-1.37c-.4-.4-.92-.59-1.43-.59-.52 0-1.04.2-1.43.59L10.3 9.45l-7.72 7.72c-.78.78-.78 2.05 0 2.83L4 21.41c.39.39.9.59 1.41.59.51 0 1.02-.2 1.41-.59l7.78-7.78 2.81-2.81c.8-.78.8-2.07 0-2.86zM5.41 20L4 18.59l7.72-7.72 1.47 1.35L5.41 20z\"/>\n",
              "  </svg>\n",
              "      </button>\n",
              "      \n",
              "  <style>\n",
              "    .colab-df-container {\n",
              "      display:flex;\n",
              "      flex-wrap:wrap;\n",
              "      gap: 12px;\n",
              "    }\n",
              "\n",
              "    .colab-df-convert {\n",
              "      background-color: #E8F0FE;\n",
              "      border: none;\n",
              "      border-radius: 50%;\n",
              "      cursor: pointer;\n",
              "      display: none;\n",
              "      fill: #1967D2;\n",
              "      height: 32px;\n",
              "      padding: 0 0 0 0;\n",
              "      width: 32px;\n",
              "    }\n",
              "\n",
              "    .colab-df-convert:hover {\n",
              "      background-color: #E2EBFA;\n",
              "      box-shadow: 0px 1px 2px rgba(60, 64, 67, 0.3), 0px 1px 3px 1px rgba(60, 64, 67, 0.15);\n",
              "      fill: #174EA6;\n",
              "    }\n",
              "\n",
              "    [theme=dark] .colab-df-convert {\n",
              "      background-color: #3B4455;\n",
              "      fill: #D2E3FC;\n",
              "    }\n",
              "\n",
              "    [theme=dark] .colab-df-convert:hover {\n",
              "      background-color: #434B5C;\n",
              "      box-shadow: 0px 1px 3px 1px rgba(0, 0, 0, 0.15);\n",
              "      filter: drop-shadow(0px 1px 2px rgba(0, 0, 0, 0.3));\n",
              "      fill: #FFFFFF;\n",
              "    }\n",
              "  </style>\n",
              "\n",
              "      <script>\n",
              "        const buttonEl =\n",
              "          document.querySelector('#df-339e94b0-a5d7-4da2-9ea6-ec08366d9539 button.colab-df-convert');\n",
              "        buttonEl.style.display =\n",
              "          google.colab.kernel.accessAllowed ? 'block' : 'none';\n",
              "\n",
              "        async function convertToInteractive(key) {\n",
              "          const element = document.querySelector('#df-339e94b0-a5d7-4da2-9ea6-ec08366d9539');\n",
              "          const dataTable =\n",
              "            await google.colab.kernel.invokeFunction('convertToInteractive',\n",
              "                                                     [key], {});\n",
              "          if (!dataTable) return;\n",
              "\n",
              "          const docLinkHtml = 'Like what you see? Visit the ' +\n",
              "            '<a target=\"_blank\" href=https://colab.research.google.com/notebooks/data_table.ipynb>data table notebook</a>'\n",
              "            + ' to learn more about interactive tables.';\n",
              "          element.innerHTML = '';\n",
              "          dataTable['output_type'] = 'display_data';\n",
              "          await google.colab.output.renderOutput(dataTable, element);\n",
              "          const docLink = document.createElement('div');\n",
              "          docLink.innerHTML = docLinkHtml;\n",
              "          element.appendChild(docLink);\n",
              "        }\n",
              "      </script>\n",
              "    </div>\n",
              "  </div>\n",
              "  "
            ]
          },
          "metadata": {},
          "execution_count": 1198
        }
      ]
    },
    {
      "cell_type": "markdown",
      "source": [
        "⭐ **Reposta:**"
      ],
      "metadata": {
        "id": "fbYqomTEh7Ur"
      }
    },
    {
      "cell_type": "code",
      "source": [
        "print(\"-\"*10);print(\"RESPOSTA:\");print(\"-\"*10)\n",
        "\n",
        "print(\"Região de procedencia que gastou mais:\",regprocXvalortotal['valor'].idxmax())\n",
        "print(\"Valor gasto:\",regprocXvalortotal.max()[0])"
      ],
      "metadata": {
        "colab": {
          "base_uri": "https://localhost:8080/"
        },
        "id": "TbZZezVRh8lI",
        "outputId": "7de2354a-9186-4ae0-de0d-a4cc9d475562"
      },
      "execution_count": 1199,
      "outputs": [
        {
          "output_type": "stream",
          "name": "stdout",
          "text": [
            "----------\n",
            "RESPOSTA:\n",
            "----------\n",
            "Região de procedencia que gastou mais: interior\n",
            "Valor gasto: 189.93\n"
          ]
        }
      ]
    },
    {
      "cell_type": "markdown",
      "source": [
        "\n",
        "\n",
        "##🎯 **Q3:** **Qual o produto que mais é vendido em quantidade?**"
      ],
      "metadata": {
        "id": "BAzfL2LqjqYM"
      }
    },
    {
      "cell_type": "code",
      "source": [
        "prod_qtd = venda_data[['produto']]\n",
        "\n",
        "prod_table = prod_qtd.pivot_table(columns=['produto'], aggfunc='size')"
      ],
      "metadata": {
        "id": "t5mKFiz_qhm-"
      },
      "execution_count": 1200,
      "outputs": []
    },
    {
      "cell_type": "markdown",
      "source": [
        "⭐ **Reposta:**"
      ],
      "metadata": {
        "id": "qXbBkhrNv-Ti"
      }
    },
    {
      "cell_type": "code",
      "source": [
        "print(\"-\"*10) ;print(\"RESPOSTA:\");print(\"-\"*10)\n",
        "print(\"Produto Mais Vendido:\", prod_table.idxmax())\n",
        "print(\"Quantidade Vedida:\",prod_table.max())"
      ],
      "metadata": {
        "colab": {
          "base_uri": "https://localhost:8080/"
        },
        "id": "9UTVkDS0v_F5",
        "outputId": "e9c7f775-09f6-49d3-eeb1-0ecda2a17e4e"
      },
      "execution_count": 1201,
      "outputs": [
        {
          "output_type": "stream",
          "name": "stdout",
          "text": [
            "----------\n",
            "RESPOSTA:\n",
            "----------\n",
            "Produto Mais Vendido: Chocolate\n",
            "Quantidade Vedida: 7\n"
          ]
        }
      ]
    },
    {
      "cell_type": "markdown",
      "source": [
        "\n",
        "##🎯 **Q4:** **Existe alguma característica da que identifique o grupo das pessoas (top 5) que compram mais produtos em quantidade? E as que gastam mais dinheiro?**"
      ],
      "metadata": {
        "id": "WGM_IhRvP9BG"
      }
    },
    {
      "cell_type": "code",
      "source": [
        "# Data base com apenas o \"cod_cadastro\"\n",
        "codcadastroXqtd = venda_data[['cod_cadastro']]\n",
        "\n",
        "# Conta quantos registros cada \"cod_cadastro\" tem.\n",
        "cod_cadastro_count = codcadastroXqtd.pivot_table(columns = ['cod_cadastro'],  aggfunc='size')\n",
        "\n",
        "# Cria um data frame com os dados obtidos anteriormente.\n",
        "cadastroXquantidade_data = pd.DataFrame({'quantidade': cod_cadastro_count})\n",
        "\n",
        "# Ordenar de forma decrescente em relação a quantidade.\n",
        "cadastroXquantidade_data.sort_values(by= ['cod_cadastro'], ascending = False , inplace = True)\n",
        "\n",
        "cadastroXquantidade_data.merge(cadastro_data,how = 'left', on = 'cod_cadastro').head()"
      ],
      "metadata": {
        "colab": {
          "base_uri": "https://localhost:8080/",
          "height": 206
        },
        "id": "56uaEqoUxsBd",
        "outputId": "55b7c3dc-31bd-4c67-e47a-ba9251cfde5f"
      },
      "execution_count": 1202,
      "outputs": [
        {
          "output_type": "execute_result",
          "data": {
            "text/plain": [
              "   cod_cadastro  quantidade estado_civil  grau_instrucao  num_filhos  salario  \\\n",
              "0            36           3       casado      3-superior         3.0    23.30   \n",
              "1            35           3       casado  2-ensino medio         2.0    19.40   \n",
              "2            34           3     solteiro      3-superior         NaN    18.75   \n",
              "3            33           3       casado      3-superior         3.0    17.26   \n",
              "4            32           3       casado  2-ensino medio         1.0    16.61   \n",
              "\n",
              "   idade_anos reg_procedencia  \n",
              "0          42        interior  \n",
              "1          48         capital  \n",
              "2          33         capital  \n",
              "3          43         capital  \n",
              "4          36        interior  "
            ],
            "text/html": [
              "\n",
              "  <div id=\"df-c4638943-5ea4-4b8a-8ceb-d338ae0c2320\">\n",
              "    <div class=\"colab-df-container\">\n",
              "      <div>\n",
              "<style scoped>\n",
              "    .dataframe tbody tr th:only-of-type {\n",
              "        vertical-align: middle;\n",
              "    }\n",
              "\n",
              "    .dataframe tbody tr th {\n",
              "        vertical-align: top;\n",
              "    }\n",
              "\n",
              "    .dataframe thead th {\n",
              "        text-align: right;\n",
              "    }\n",
              "</style>\n",
              "<table border=\"1\" class=\"dataframe\">\n",
              "  <thead>\n",
              "    <tr style=\"text-align: right;\">\n",
              "      <th></th>\n",
              "      <th>cod_cadastro</th>\n",
              "      <th>quantidade</th>\n",
              "      <th>estado_civil</th>\n",
              "      <th>grau_instrucao</th>\n",
              "      <th>num_filhos</th>\n",
              "      <th>salario</th>\n",
              "      <th>idade_anos</th>\n",
              "      <th>reg_procedencia</th>\n",
              "    </tr>\n",
              "  </thead>\n",
              "  <tbody>\n",
              "    <tr>\n",
              "      <th>0</th>\n",
              "      <td>36</td>\n",
              "      <td>3</td>\n",
              "      <td>casado</td>\n",
              "      <td>3-superior</td>\n",
              "      <td>3.0</td>\n",
              "      <td>23.30</td>\n",
              "      <td>42</td>\n",
              "      <td>interior</td>\n",
              "    </tr>\n",
              "    <tr>\n",
              "      <th>1</th>\n",
              "      <td>35</td>\n",
              "      <td>3</td>\n",
              "      <td>casado</td>\n",
              "      <td>2-ensino medio</td>\n",
              "      <td>2.0</td>\n",
              "      <td>19.40</td>\n",
              "      <td>48</td>\n",
              "      <td>capital</td>\n",
              "    </tr>\n",
              "    <tr>\n",
              "      <th>2</th>\n",
              "      <td>34</td>\n",
              "      <td>3</td>\n",
              "      <td>solteiro</td>\n",
              "      <td>3-superior</td>\n",
              "      <td>NaN</td>\n",
              "      <td>18.75</td>\n",
              "      <td>33</td>\n",
              "      <td>capital</td>\n",
              "    </tr>\n",
              "    <tr>\n",
              "      <th>3</th>\n",
              "      <td>33</td>\n",
              "      <td>3</td>\n",
              "      <td>casado</td>\n",
              "      <td>3-superior</td>\n",
              "      <td>3.0</td>\n",
              "      <td>17.26</td>\n",
              "      <td>43</td>\n",
              "      <td>capital</td>\n",
              "    </tr>\n",
              "    <tr>\n",
              "      <th>4</th>\n",
              "      <td>32</td>\n",
              "      <td>3</td>\n",
              "      <td>casado</td>\n",
              "      <td>2-ensino medio</td>\n",
              "      <td>1.0</td>\n",
              "      <td>16.61</td>\n",
              "      <td>36</td>\n",
              "      <td>interior</td>\n",
              "    </tr>\n",
              "  </tbody>\n",
              "</table>\n",
              "</div>\n",
              "      <button class=\"colab-df-convert\" onclick=\"convertToInteractive('df-c4638943-5ea4-4b8a-8ceb-d338ae0c2320')\"\n",
              "              title=\"Convert this dataframe to an interactive table.\"\n",
              "              style=\"display:none;\">\n",
              "        \n",
              "  <svg xmlns=\"http://www.w3.org/2000/svg\" height=\"24px\"viewBox=\"0 0 24 24\"\n",
              "       width=\"24px\">\n",
              "    <path d=\"M0 0h24v24H0V0z\" fill=\"none\"/>\n",
              "    <path d=\"M18.56 5.44l.94 2.06.94-2.06 2.06-.94-2.06-.94-.94-2.06-.94 2.06-2.06.94zm-11 1L8.5 8.5l.94-2.06 2.06-.94-2.06-.94L8.5 2.5l-.94 2.06-2.06.94zm10 10l.94 2.06.94-2.06 2.06-.94-2.06-.94-.94-2.06-.94 2.06-2.06.94z\"/><path d=\"M17.41 7.96l-1.37-1.37c-.4-.4-.92-.59-1.43-.59-.52 0-1.04.2-1.43.59L10.3 9.45l-7.72 7.72c-.78.78-.78 2.05 0 2.83L4 21.41c.39.39.9.59 1.41.59.51 0 1.02-.2 1.41-.59l7.78-7.78 2.81-2.81c.8-.78.8-2.07 0-2.86zM5.41 20L4 18.59l7.72-7.72 1.47 1.35L5.41 20z\"/>\n",
              "  </svg>\n",
              "      </button>\n",
              "      \n",
              "  <style>\n",
              "    .colab-df-container {\n",
              "      display:flex;\n",
              "      flex-wrap:wrap;\n",
              "      gap: 12px;\n",
              "    }\n",
              "\n",
              "    .colab-df-convert {\n",
              "      background-color: #E8F0FE;\n",
              "      border: none;\n",
              "      border-radius: 50%;\n",
              "      cursor: pointer;\n",
              "      display: none;\n",
              "      fill: #1967D2;\n",
              "      height: 32px;\n",
              "      padding: 0 0 0 0;\n",
              "      width: 32px;\n",
              "    }\n",
              "\n",
              "    .colab-df-convert:hover {\n",
              "      background-color: #E2EBFA;\n",
              "      box-shadow: 0px 1px 2px rgba(60, 64, 67, 0.3), 0px 1px 3px 1px rgba(60, 64, 67, 0.15);\n",
              "      fill: #174EA6;\n",
              "    }\n",
              "\n",
              "    [theme=dark] .colab-df-convert {\n",
              "      background-color: #3B4455;\n",
              "      fill: #D2E3FC;\n",
              "    }\n",
              "\n",
              "    [theme=dark] .colab-df-convert:hover {\n",
              "      background-color: #434B5C;\n",
              "      box-shadow: 0px 1px 3px 1px rgba(0, 0, 0, 0.15);\n",
              "      filter: drop-shadow(0px 1px 2px rgba(0, 0, 0, 0.3));\n",
              "      fill: #FFFFFF;\n",
              "    }\n",
              "  </style>\n",
              "\n",
              "      <script>\n",
              "        const buttonEl =\n",
              "          document.querySelector('#df-c4638943-5ea4-4b8a-8ceb-d338ae0c2320 button.colab-df-convert');\n",
              "        buttonEl.style.display =\n",
              "          google.colab.kernel.accessAllowed ? 'block' : 'none';\n",
              "\n",
              "        async function convertToInteractive(key) {\n",
              "          const element = document.querySelector('#df-c4638943-5ea4-4b8a-8ceb-d338ae0c2320');\n",
              "          const dataTable =\n",
              "            await google.colab.kernel.invokeFunction('convertToInteractive',\n",
              "                                                     [key], {});\n",
              "          if (!dataTable) return;\n",
              "\n",
              "          const docLinkHtml = 'Like what you see? Visit the ' +\n",
              "            '<a target=\"_blank\" href=https://colab.research.google.com/notebooks/data_table.ipynb>data table notebook</a>'\n",
              "            + ' to learn more about interactive tables.';\n",
              "          element.innerHTML = '';\n",
              "          dataTable['output_type'] = 'display_data';\n",
              "          await google.colab.output.renderOutput(dataTable, element);\n",
              "          const docLink = document.createElement('div');\n",
              "          docLink.innerHTML = docLinkHtml;\n",
              "          element.appendChild(docLink);\n",
              "        }\n",
              "      </script>\n",
              "    </div>\n",
              "  </div>\n",
              "  "
            ]
          },
          "metadata": {},
          "execution_count": 1202
        }
      ]
    },
    {
      "cell_type": "code",
      "source": [
        "codcadastroXvalortotal = codXvalorXreg[['cod_cadastro','valor']].groupby(['cod_cadastro']).sum()\n",
        "\n",
        "codcadastroXvalortotal.sort_values(by = ['valor'],ascending = False , inplace = True)\n",
        "\n",
        "codcadastroXvalortotal.merge(cadastro_data,how = 'left', on = 'cod_cadastro').head()"
      ],
      "metadata": {
        "colab": {
          "base_uri": "https://localhost:8080/",
          "height": 206
        },
        "id": "XZjQ-TSx1b_N",
        "outputId": "9933f3fc-9085-4e1e-a0a7-48777582330b"
      },
      "execution_count": 1203,
      "outputs": [
        {
          "output_type": "execute_result",
          "data": {
            "text/plain": [
              "   cod_cadastro  valor estado_civil        grau_instrucao  num_filhos  \\\n",
              "0            27   47.8     solteiro  1-ensino fundamental         NaN   \n",
              "1            34   43.5     solteiro            3-superior         NaN   \n",
              "2            29   37.5       casado        2-ensino medio         5.0   \n",
              "3             7   35.5     solteiro  1-ensino fundamental         NaN   \n",
              "4            35   31.8       casado        2-ensino medio         2.0   \n",
              "\n",
              "   salario  idade_anos reg_procedencia  \n",
              "0    13.85          46           outra  \n",
              "1    18.75          33         capital  \n",
              "2    14.71          40        interior  \n",
              "3     6.86          41        interior  \n",
              "4    19.40          48         capital  "
            ],
            "text/html": [
              "\n",
              "  <div id=\"df-83a65f26-e111-48a0-80b9-1982f5dc0e14\">\n",
              "    <div class=\"colab-df-container\">\n",
              "      <div>\n",
              "<style scoped>\n",
              "    .dataframe tbody tr th:only-of-type {\n",
              "        vertical-align: middle;\n",
              "    }\n",
              "\n",
              "    .dataframe tbody tr th {\n",
              "        vertical-align: top;\n",
              "    }\n",
              "\n",
              "    .dataframe thead th {\n",
              "        text-align: right;\n",
              "    }\n",
              "</style>\n",
              "<table border=\"1\" class=\"dataframe\">\n",
              "  <thead>\n",
              "    <tr style=\"text-align: right;\">\n",
              "      <th></th>\n",
              "      <th>cod_cadastro</th>\n",
              "      <th>valor</th>\n",
              "      <th>estado_civil</th>\n",
              "      <th>grau_instrucao</th>\n",
              "      <th>num_filhos</th>\n",
              "      <th>salario</th>\n",
              "      <th>idade_anos</th>\n",
              "      <th>reg_procedencia</th>\n",
              "    </tr>\n",
              "  </thead>\n",
              "  <tbody>\n",
              "    <tr>\n",
              "      <th>0</th>\n",
              "      <td>27</td>\n",
              "      <td>47.8</td>\n",
              "      <td>solteiro</td>\n",
              "      <td>1-ensino fundamental</td>\n",
              "      <td>NaN</td>\n",
              "      <td>13.85</td>\n",
              "      <td>46</td>\n",
              "      <td>outra</td>\n",
              "    </tr>\n",
              "    <tr>\n",
              "      <th>1</th>\n",
              "      <td>34</td>\n",
              "      <td>43.5</td>\n",
              "      <td>solteiro</td>\n",
              "      <td>3-superior</td>\n",
              "      <td>NaN</td>\n",
              "      <td>18.75</td>\n",
              "      <td>33</td>\n",
              "      <td>capital</td>\n",
              "    </tr>\n",
              "    <tr>\n",
              "      <th>2</th>\n",
              "      <td>29</td>\n",
              "      <td>37.5</td>\n",
              "      <td>casado</td>\n",
              "      <td>2-ensino medio</td>\n",
              "      <td>5.0</td>\n",
              "      <td>14.71</td>\n",
              "      <td>40</td>\n",
              "      <td>interior</td>\n",
              "    </tr>\n",
              "    <tr>\n",
              "      <th>3</th>\n",
              "      <td>7</td>\n",
              "      <td>35.5</td>\n",
              "      <td>solteiro</td>\n",
              "      <td>1-ensino fundamental</td>\n",
              "      <td>NaN</td>\n",
              "      <td>6.86</td>\n",
              "      <td>41</td>\n",
              "      <td>interior</td>\n",
              "    </tr>\n",
              "    <tr>\n",
              "      <th>4</th>\n",
              "      <td>35</td>\n",
              "      <td>31.8</td>\n",
              "      <td>casado</td>\n",
              "      <td>2-ensino medio</td>\n",
              "      <td>2.0</td>\n",
              "      <td>19.40</td>\n",
              "      <td>48</td>\n",
              "      <td>capital</td>\n",
              "    </tr>\n",
              "  </tbody>\n",
              "</table>\n",
              "</div>\n",
              "      <button class=\"colab-df-convert\" onclick=\"convertToInteractive('df-83a65f26-e111-48a0-80b9-1982f5dc0e14')\"\n",
              "              title=\"Convert this dataframe to an interactive table.\"\n",
              "              style=\"display:none;\">\n",
              "        \n",
              "  <svg xmlns=\"http://www.w3.org/2000/svg\" height=\"24px\"viewBox=\"0 0 24 24\"\n",
              "       width=\"24px\">\n",
              "    <path d=\"M0 0h24v24H0V0z\" fill=\"none\"/>\n",
              "    <path d=\"M18.56 5.44l.94 2.06.94-2.06 2.06-.94-2.06-.94-.94-2.06-.94 2.06-2.06.94zm-11 1L8.5 8.5l.94-2.06 2.06-.94-2.06-.94L8.5 2.5l-.94 2.06-2.06.94zm10 10l.94 2.06.94-2.06 2.06-.94-2.06-.94-.94-2.06-.94 2.06-2.06.94z\"/><path d=\"M17.41 7.96l-1.37-1.37c-.4-.4-.92-.59-1.43-.59-.52 0-1.04.2-1.43.59L10.3 9.45l-7.72 7.72c-.78.78-.78 2.05 0 2.83L4 21.41c.39.39.9.59 1.41.59.51 0 1.02-.2 1.41-.59l7.78-7.78 2.81-2.81c.8-.78.8-2.07 0-2.86zM5.41 20L4 18.59l7.72-7.72 1.47 1.35L5.41 20z\"/>\n",
              "  </svg>\n",
              "      </button>\n",
              "      \n",
              "  <style>\n",
              "    .colab-df-container {\n",
              "      display:flex;\n",
              "      flex-wrap:wrap;\n",
              "      gap: 12px;\n",
              "    }\n",
              "\n",
              "    .colab-df-convert {\n",
              "      background-color: #E8F0FE;\n",
              "      border: none;\n",
              "      border-radius: 50%;\n",
              "      cursor: pointer;\n",
              "      display: none;\n",
              "      fill: #1967D2;\n",
              "      height: 32px;\n",
              "      padding: 0 0 0 0;\n",
              "      width: 32px;\n",
              "    }\n",
              "\n",
              "    .colab-df-convert:hover {\n",
              "      background-color: #E2EBFA;\n",
              "      box-shadow: 0px 1px 2px rgba(60, 64, 67, 0.3), 0px 1px 3px 1px rgba(60, 64, 67, 0.15);\n",
              "      fill: #174EA6;\n",
              "    }\n",
              "\n",
              "    [theme=dark] .colab-df-convert {\n",
              "      background-color: #3B4455;\n",
              "      fill: #D2E3FC;\n",
              "    }\n",
              "\n",
              "    [theme=dark] .colab-df-convert:hover {\n",
              "      background-color: #434B5C;\n",
              "      box-shadow: 0px 1px 3px 1px rgba(0, 0, 0, 0.15);\n",
              "      filter: drop-shadow(0px 1px 2px rgba(0, 0, 0, 0.3));\n",
              "      fill: #FFFFFF;\n",
              "    }\n",
              "  </style>\n",
              "\n",
              "      <script>\n",
              "        const buttonEl =\n",
              "          document.querySelector('#df-83a65f26-e111-48a0-80b9-1982f5dc0e14 button.colab-df-convert');\n",
              "        buttonEl.style.display =\n",
              "          google.colab.kernel.accessAllowed ? 'block' : 'none';\n",
              "\n",
              "        async function convertToInteractive(key) {\n",
              "          const element = document.querySelector('#df-83a65f26-e111-48a0-80b9-1982f5dc0e14');\n",
              "          const dataTable =\n",
              "            await google.colab.kernel.invokeFunction('convertToInteractive',\n",
              "                                                     [key], {});\n",
              "          if (!dataTable) return;\n",
              "\n",
              "          const docLinkHtml = 'Like what you see? Visit the ' +\n",
              "            '<a target=\"_blank\" href=https://colab.research.google.com/notebooks/data_table.ipynb>data table notebook</a>'\n",
              "            + ' to learn more about interactive tables.';\n",
              "          element.innerHTML = '';\n",
              "          dataTable['output_type'] = 'display_data';\n",
              "          await google.colab.output.renderOutput(dataTable, element);\n",
              "          const docLink = document.createElement('div');\n",
              "          docLink.innerHTML = docLinkHtml;\n",
              "          element.appendChild(docLink);\n",
              "        }\n",
              "      </script>\n",
              "    </div>\n",
              "  </div>\n",
              "  "
            ]
          },
          "metadata": {},
          "execution_count": 1203
        }
      ]
    },
    {
      "cell_type": "markdown",
      "source": [
        "⭐ **Reposta:**\n",
        "\n",
        "▶ As 5 primeiras pessoas que **mais compraram por quantidade** (todas compraram 3) tem em comum os seguintes pontos\n",
        "\n",
        "\n",
        "\n",
        "*   A maioria são casados (4/5 são casados).\n",
        "*   A maioria moram na capital e o resto no interior (3/5 moram na capital).\n",
        "*   Todos possuem, pelo menos, o segundo grau.\n",
        "*   Todos Possuem salário acima dos 16.\n",
        "*   Todos estão acima dos 30 anos.\n",
        "\n",
        "\n",
        "▶ Já nas 5 pessoas que **mais gastaram** temos que:\n",
        "\n",
        "\n",
        "*   A maioria não possuem filhos (3/5 não possuem filhos).\n",
        "*   A maioria são solteiros (3/5 são solteiros).\n",
        "*   Todos tem pelos menos ensino Fundamental.\n",
        "*   A maioria não tem filhos (3/5 não possuem filhos).\n",
        "*   A maioria possue salário acima de 10 (somente 1 entre os 5 estão abaixo de 10)\n",
        "*   Todos possuem mais de 30 anos.\n",
        "*   A procedência dos três é bem variada.\n",
        "\n",
        "\n",
        "\n",
        "\n",
        "\n",
        "\n",
        "\n",
        "\n",
        "\n",
        "\n",
        "\n",
        "\n",
        "\n",
        "\n",
        "\n",
        "\n",
        "\n"
      ],
      "metadata": {
        "id": "KDRB-O0CzmjF"
      }
    },
    {
      "cell_type": "markdown",
      "source": [
        "##🎯 **Q5:** **Você consegue ver alguma relação entre o grau de instrução e o número de filhos? Descreva a sua interpretação do caso, utilizando os dados para justificar as suas conclusões.**"
      ],
      "metadata": {
        "id": "Gc9YVFxdr-45"
      }
    },
    {
      "cell_type": "code",
      "source": [
        "#Verificando quais \"graus_instrucao\" existem na tabela.\n",
        "cadastro_data[['grau_instrucao','num_filhos']].fillna(0).groupby(['grau_instrucao']).sum()"
      ],
      "metadata": {
        "colab": {
          "base_uri": "https://localhost:8080/",
          "height": 174
        },
        "id": "jPsCc2DJueOA",
        "outputId": "fbc10567-4569-4593-f64b-bec0da56b6c3"
      },
      "execution_count": 1204,
      "outputs": [
        {
          "output_type": "execute_result",
          "data": {
            "text/plain": [
              "                      num_filhos\n",
              "grau_instrucao                  \n",
              "1-ensino fundamental         8.0\n",
              "2-ensino medio              19.0\n",
              "3-superior                   6.0"
            ],
            "text/html": [
              "\n",
              "  <div id=\"df-b717eca9-3210-4f20-a00e-4ab6d754467a\">\n",
              "    <div class=\"colab-df-container\">\n",
              "      <div>\n",
              "<style scoped>\n",
              "    .dataframe tbody tr th:only-of-type {\n",
              "        vertical-align: middle;\n",
              "    }\n",
              "\n",
              "    .dataframe tbody tr th {\n",
              "        vertical-align: top;\n",
              "    }\n",
              "\n",
              "    .dataframe thead th {\n",
              "        text-align: right;\n",
              "    }\n",
              "</style>\n",
              "<table border=\"1\" class=\"dataframe\">\n",
              "  <thead>\n",
              "    <tr style=\"text-align: right;\">\n",
              "      <th></th>\n",
              "      <th>num_filhos</th>\n",
              "    </tr>\n",
              "    <tr>\n",
              "      <th>grau_instrucao</th>\n",
              "      <th></th>\n",
              "    </tr>\n",
              "  </thead>\n",
              "  <tbody>\n",
              "    <tr>\n",
              "      <th>1-ensino fundamental</th>\n",
              "      <td>8.0</td>\n",
              "    </tr>\n",
              "    <tr>\n",
              "      <th>2-ensino medio</th>\n",
              "      <td>19.0</td>\n",
              "    </tr>\n",
              "    <tr>\n",
              "      <th>3-superior</th>\n",
              "      <td>6.0</td>\n",
              "    </tr>\n",
              "  </tbody>\n",
              "</table>\n",
              "</div>\n",
              "      <button class=\"colab-df-convert\" onclick=\"convertToInteractive('df-b717eca9-3210-4f20-a00e-4ab6d754467a')\"\n",
              "              title=\"Convert this dataframe to an interactive table.\"\n",
              "              style=\"display:none;\">\n",
              "        \n",
              "  <svg xmlns=\"http://www.w3.org/2000/svg\" height=\"24px\"viewBox=\"0 0 24 24\"\n",
              "       width=\"24px\">\n",
              "    <path d=\"M0 0h24v24H0V0z\" fill=\"none\"/>\n",
              "    <path d=\"M18.56 5.44l.94 2.06.94-2.06 2.06-.94-2.06-.94-.94-2.06-.94 2.06-2.06.94zm-11 1L8.5 8.5l.94-2.06 2.06-.94-2.06-.94L8.5 2.5l-.94 2.06-2.06.94zm10 10l.94 2.06.94-2.06 2.06-.94-2.06-.94-.94-2.06-.94 2.06-2.06.94z\"/><path d=\"M17.41 7.96l-1.37-1.37c-.4-.4-.92-.59-1.43-.59-.52 0-1.04.2-1.43.59L10.3 9.45l-7.72 7.72c-.78.78-.78 2.05 0 2.83L4 21.41c.39.39.9.59 1.41.59.51 0 1.02-.2 1.41-.59l7.78-7.78 2.81-2.81c.8-.78.8-2.07 0-2.86zM5.41 20L4 18.59l7.72-7.72 1.47 1.35L5.41 20z\"/>\n",
              "  </svg>\n",
              "      </button>\n",
              "      \n",
              "  <style>\n",
              "    .colab-df-container {\n",
              "      display:flex;\n",
              "      flex-wrap:wrap;\n",
              "      gap: 12px;\n",
              "    }\n",
              "\n",
              "    .colab-df-convert {\n",
              "      background-color: #E8F0FE;\n",
              "      border: none;\n",
              "      border-radius: 50%;\n",
              "      cursor: pointer;\n",
              "      display: none;\n",
              "      fill: #1967D2;\n",
              "      height: 32px;\n",
              "      padding: 0 0 0 0;\n",
              "      width: 32px;\n",
              "    }\n",
              "\n",
              "    .colab-df-convert:hover {\n",
              "      background-color: #E2EBFA;\n",
              "      box-shadow: 0px 1px 2px rgba(60, 64, 67, 0.3), 0px 1px 3px 1px rgba(60, 64, 67, 0.15);\n",
              "      fill: #174EA6;\n",
              "    }\n",
              "\n",
              "    [theme=dark] .colab-df-convert {\n",
              "      background-color: #3B4455;\n",
              "      fill: #D2E3FC;\n",
              "    }\n",
              "\n",
              "    [theme=dark] .colab-df-convert:hover {\n",
              "      background-color: #434B5C;\n",
              "      box-shadow: 0px 1px 3px 1px rgba(0, 0, 0, 0.15);\n",
              "      filter: drop-shadow(0px 1px 2px rgba(0, 0, 0, 0.3));\n",
              "      fill: #FFFFFF;\n",
              "    }\n",
              "  </style>\n",
              "\n",
              "      <script>\n",
              "        const buttonEl =\n",
              "          document.querySelector('#df-b717eca9-3210-4f20-a00e-4ab6d754467a button.colab-df-convert');\n",
              "        buttonEl.style.display =\n",
              "          google.colab.kernel.accessAllowed ? 'block' : 'none';\n",
              "\n",
              "        async function convertToInteractive(key) {\n",
              "          const element = document.querySelector('#df-b717eca9-3210-4f20-a00e-4ab6d754467a');\n",
              "          const dataTable =\n",
              "            await google.colab.kernel.invokeFunction('convertToInteractive',\n",
              "                                                     [key], {});\n",
              "          if (!dataTable) return;\n",
              "\n",
              "          const docLinkHtml = 'Like what you see? Visit the ' +\n",
              "            '<a target=\"_blank\" href=https://colab.research.google.com/notebooks/data_table.ipynb>data table notebook</a>'\n",
              "            + ' to learn more about interactive tables.';\n",
              "          element.innerHTML = '';\n",
              "          dataTable['output_type'] = 'display_data';\n",
              "          await google.colab.output.renderOutput(dataTable, element);\n",
              "          const docLink = document.createElement('div');\n",
              "          docLink.innerHTML = docLinkHtml;\n",
              "          element.appendChild(docLink);\n",
              "        }\n",
              "      </script>\n",
              "    </div>\n",
              "  </div>\n",
              "  "
            ]
          },
          "metadata": {},
          "execution_count": 1204
        }
      ]
    },
    {
      "cell_type": "markdown",
      "source": [
        "💡 **Porcentagem do total de filhos para cada grau de instrução:**"
      ],
      "metadata": {
        "id": "nD-NBfhhoC18"
      }
    },
    {
      "cell_type": "code",
      "source": [
        "import matplotlib.pyplot as plt\n",
        "\n",
        "aux = cadastro_data[['grau_instrucao','num_filhos']].fillna(0).groupby(['grau_instrucao']).sum()\n",
        "\n",
        "slices = aux['num_filhos'].values.tolist()\n",
        "labels = aux.index.values.tolist()\n",
        "\n",
        "plt.figure(figsize = (2.5, 2.5)); plt.pie(slices,labels=labels,autopct = '%.2f%%'\n",
        ");"
      ],
      "metadata": {
        "colab": {
          "base_uri": "https://localhost:8080/",
          "height": 229
        },
        "id": "9n7eb-OCDGOs",
        "outputId": "ea0793d9-7134-411d-d4d4-c8fa36d53a92"
      },
      "execution_count": 1205,
      "outputs": [
        {
          "output_type": "display_data",
          "data": {
            "text/plain": [
              "<Figure size 250x250 with 1 Axes>"
            ],
            "image/png": "[encoded data removed]"
          },
          "metadata": {}
        }
      ]
    },
    {
      "cell_type": "markdown",
      "source": [
        "💡 **Porcentagem filhos dentro de cada grau de instrução:**"
      ],
      "metadata": {
        "id": "oiggUJ_cqecr"
      }
    },
    {
      "cell_type": "code",
      "source": [
        "pct_filhos = []\n",
        "\n",
        "def porcentagem_filhos(grau):\n",
        "# Tabela com os registros do cadastro que possume \"grau_instrucao = 2-ension medio\"\n",
        "    aux = cadastro_data[['grau_instrucao','num_filhos']].query('grau_instrucao == \"{}\"'.format(grau)).fillna(0)\n",
        "    total = aux['grau_instrucao'].count() # Total de cadastro com \"grau_instrucao = 2-ensino medio\"\n",
        "    filho = aux[['num_filhos']].query('num_filhos > 0').count()[0] # Total de cadastros com \"2-ensimo medio\" e pelomenos um filho\n",
        "\n",
        "    return (filho/total)*100\n",
        "\n",
        "# Colocando as porcentagens em uma lista para poder montar um gráfico.\n",
        "pct_filhos.append(porcentagem_filhos('1-ensino fundamental'))\n",
        "pct_filhos.append(porcentagem_filhos('2-ensino medio'))\n",
        "pct_filhos.append(porcentagem_filhos('3-superior'))\n",
        "\n"
      ],
      "metadata": {
        "id": "3uoLI00qT1Yo"
      },
      "execution_count": 1206,
      "outputs": []
    },
    {
      "cell_type": "code",
      "source": [
        "plt.figure(figsize = (2.5, 2.5))\n",
        "plt.xlim(right = 80)\n",
        "plt.bar_label(plt.barh(['1-ensino fundamental','2-ensino medio','3-superior'],pct_filhos),fmt='%.2f%%');\n"
      ],
      "metadata": {
        "colab": {
          "base_uri": "https://localhost:8080/",
          "height": 254
        },
        "id": "BhCwlxsPcMf_",
        "outputId": "6095c0f8-6e60-4430-8031-80d94fc72a8b"
      },
      "execution_count": 1207,
      "outputs": [
        {
          "output_type": "display_data",
          "data": {
            "text/plain": [
              "<Figure size 250x250 with 1 Axes>"
            ],
            "image/png": "[encoded data removed]"
          },
          "metadata": {}
        }
      ]
    }
  ]
}